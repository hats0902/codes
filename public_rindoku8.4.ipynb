{
 "cells": [
  {
   "cell_type": "markdown",
   "id": "8c2ce045-60f7-46de-b965-b3c34040fdd3",
   "metadata": {},
   "source": [
    "# 潜在ディレクトリ配分によるトピックモデルの構築\n",
    "- 「[第3版]Python機械学習プログラミング 達人データサイエンティストによる理論と実践」を参考に実装"
   ]
  },
  {
   "cell_type": "code",
   "execution_count": 1,
   "id": "aea496d4-8874-4d80-a1ba-894896aeb8c7",
   "metadata": {},
   "outputs": [],
   "source": [
    "#インストール（必要あれば）"
   ]
  },
  {
   "cell_type": "code",
   "execution_count": 2,
   "id": "595830cc-44cc-4b23-8b22-f38331eacd4a",
   "metadata": {},
   "outputs": [],
   "source": [
    "import pandas as pd\n",
    "import os\n",
    "import numpy as np\n",
    "import matplotlib.pyplot as plt"
   ]
  },
  {
   "cell_type": "code",
   "execution_count": 3,
   "id": "f0e0a290-2a22-4c2c-af38-8d90f46bac06",
   "metadata": {},
   "outputs": [],
   "source": [
    "# 映画レビューのデータセット（http://ai.stanford.edu/~amaas/data/sentiment/）\n",
    "df = pd.read_csv('movie_data.csv')"
   ]
  },
  {
   "cell_type": "markdown",
   "id": "5ef378d2-7f97-4834-8891-d75968e87115",
   "metadata": {},
   "source": [
    "### データの確認"
   ]
  },
  {
   "cell_type": "code",
   "execution_count": 4,
   "id": "4f721bc3-699c-4b47-8819-52153e161fa1",
   "metadata": {},
   "outputs": [
    {
     "data": {
      "text/html": [
       "<div>\n",
       "<style scoped>\n",
       "    .dataframe tbody tr th:only-of-type {\n",
       "        vertical-align: middle;\n",
       "    }\n",
       "\n",
       "    .dataframe tbody tr th {\n",
       "        vertical-align: top;\n",
       "    }\n",
       "\n",
       "    .dataframe thead th {\n",
       "        text-align: right;\n",
       "    }\n",
       "</style>\n",
       "<table border=\"1\" class=\"dataframe\">\n",
       "  <thead>\n",
       "    <tr style=\"text-align: right;\">\n",
       "      <th></th>\n",
       "      <th>review</th>\n",
       "      <th>sentiment</th>\n",
       "    </tr>\n",
       "  </thead>\n",
       "  <tbody>\n",
       "    <tr>\n",
       "      <th>0</th>\n",
       "      <td>In 1974, the teenager Martha Moxley (Maggie Gr...</td>\n",
       "      <td>1</td>\n",
       "    </tr>\n",
       "    <tr>\n",
       "      <th>1</th>\n",
       "      <td>OK... so... I really like Kris Kristofferson a...</td>\n",
       "      <td>0</td>\n",
       "    </tr>\n",
       "    <tr>\n",
       "      <th>2</th>\n",
       "      <td>***SPOILER*** Do not read this, if you think a...</td>\n",
       "      <td>0</td>\n",
       "    </tr>\n",
       "    <tr>\n",
       "      <th>3</th>\n",
       "      <td>hi for all the people who have seen this wonde...</td>\n",
       "      <td>1</td>\n",
       "    </tr>\n",
       "    <tr>\n",
       "      <th>4</th>\n",
       "      <td>I recently bought the DVD, forgetting just how...</td>\n",
       "      <td>0</td>\n",
       "    </tr>\n",
       "  </tbody>\n",
       "</table>\n",
       "</div>"
      ],
      "text/plain": [
       "                                              review  sentiment\n",
       "0  In 1974, the teenager Martha Moxley (Maggie Gr...          1\n",
       "1  OK... so... I really like Kris Kristofferson a...          0\n",
       "2  ***SPOILER*** Do not read this, if you think a...          0\n",
       "3  hi for all the people who have seen this wonde...          1\n",
       "4  I recently bought the DVD, forgetting just how...          0"
      ]
     },
     "execution_count": 4,
     "metadata": {},
     "output_type": "execute_result"
    }
   ],
   "source": [
    "df.head()"
   ]
  },
  {
   "cell_type": "code",
   "execution_count": 5,
   "id": "9729c1cc-534a-4da1-bab6-4ffdb9352a23",
   "metadata": {},
   "outputs": [
    {
     "data": {
      "text/plain": [
       "(50000, 2)"
      ]
     },
     "execution_count": 5,
     "metadata": {},
     "output_type": "execute_result"
    }
   ],
   "source": [
    "df.shape"
   ]
  },
  {
   "cell_type": "code",
   "execution_count": 6,
   "id": "db0fe5d2-ed7e-4091-8e1c-b1652495272f",
   "metadata": {},
   "outputs": [
    {
     "data": {
      "text/plain": [
       "'総単語数: 11557847 words'"
      ]
     },
     "execution_count": 6,
     "metadata": {},
     "output_type": "execute_result"
    }
   ],
   "source": [
    "#単語数を数える\n",
    "#各文書ごとに単語数を格納したリストの作成\n",
    "word_count = [len(review.split()) for review in df['review']]\n",
    "\n",
    "x = 0\n",
    "for count in word_count:\n",
    "    x += count\n",
    "f'総単語数: {x} words'"
   ]
  },
  {
   "cell_type": "markdown",
   "id": "c81a7b27-aa75-4d56-8676-289825087f9d",
   "metadata": {},
   "source": [
    "### (1) BoW行列の作成（単語のベクトル化とストップワードの除去）\n",
    "- (stopword list) https://github.com/scikit-learn/scikit-learn/blob/main/sklearn/feature_extraction/_stop_words.py\n",
    "- (document) https://scikit-learn.org/stable/modules/generated/sklearn.feature_extraction.text.CountVectorizer.html\n",
    "- (tokenization)https://scikit-learn.org/1.1/modules/feature_extraction.html#text-feature-extraction"
   ]
  },
  {
   "cell_type": "code",
   "execution_count": 7,
   "id": "5ebb1d8a-475f-4ef1-b18b-1fc3e2778d3d",
   "metadata": {},
   "outputs": [],
   "source": [
    "#インポート\n",
    "from sklearn.feature_extraction.text import CountVectorizer \n",
    "\n",
    "count = CountVectorizer(stop_words='english', #sklearnライブラリの英語用ストップワードリストを用いる\n",
    "                        max_df=0.1, #出現頻度が10%以上の単語は除去される\n",
    "                        max_features=5000) #出現頻度の高い上位5000語のみを特徴量として使用\n",
    "\n",
    "X = count.fit_transform(df['review'].values) #レビューデータを使ってBow行列を作成"
   ]
  },
  {
   "cell_type": "code",
   "execution_count": 8,
   "id": "8ebd8990-fbf4-4b77-88b7-daea05729037",
   "metadata": {},
   "outputs": [
    {
     "name": "stdout",
     "output_type": "stream",
     "text": [
      "(50000, 5000)\n"
     ]
    },
    {
     "data": {
      "text/plain": [
       "array([[0, 0, 0, ..., 0, 0, 0],\n",
       "       [0, 0, 0, ..., 0, 0, 0],\n",
       "       [0, 0, 0, ..., 0, 0, 0],\n",
       "       ...,\n",
       "       [0, 0, 0, ..., 0, 0, 0],\n",
       "       [0, 0, 0, ..., 0, 0, 0],\n",
       "       [0, 0, 0, ..., 0, 0, 0]])"
      ]
     },
     "execution_count": 8,
     "metadata": {},
     "output_type": "execute_result"
    }
   ],
   "source": [
    "#BoW行列を確認\n",
    "print(X.shape) #(50,000件のレビューデータ×出現頻度上位5000語)\n",
    "X.toarray() #出現頻度が格納"
   ]
  },
  {
   "cell_type": "code",
   "execution_count": 9,
   "id": "a8432b6b-18c4-45c6-be23-d44c5131374a",
   "metadata": {},
   "outputs": [
    {
     "data": {
      "text/plain": [
       "5000"
      ]
     },
     "execution_count": 9,
     "metadata": {},
     "output_type": "execute_result"
    }
   ],
   "source": [
    "len(count.vocabulary_)"
   ]
  },
  {
   "cell_type": "code",
   "execution_count": 10,
   "id": "887d74a3-f17c-4c0e-b2b9-813e7c8b98d0",
   "metadata": {},
   "outputs": [
    {
     "data": {
      "text/plain": [
       "['starman',\n",
       " 'bombards',\n",
       " 'petitioned',\n",
       " 'jeeharv',\n",
       " 'edmednson',\n",
       " 'encompassed',\n",
       " 'gabriela',\n",
       " 'kellerkinder',\n",
       " 'regretting',\n",
       " 'outasight']"
      ]
     },
     "execution_count": 10,
     "metadata": {},
     "output_type": "execute_result"
    }
   ],
   "source": [
    "#除去された単語を10個確認\n",
    "list(count.stop_words_)[:10]"
   ]
  },
  {
   "cell_type": "code",
   "execution_count": 11,
   "id": "154cb4dd-a6ab-4588-81d0-91ae7a28a56a",
   "metadata": {},
   "outputs": [
    {
     "data": {
      "text/plain": [
       "'96583語が除去されている'"
      ]
     },
     "execution_count": 11,
     "metadata": {},
     "output_type": "execute_result"
    }
   ],
   "source": [
    "f'{len(list(count.stop_words_))}語が除去されている'"
   ]
  },
  {
   "cell_type": "markdown",
   "id": "b16cfc3b-a314-4a4f-981d-24e8e7dc44ee",
   "metadata": {},
   "source": [
    "### (2) LatentDirichletAllocationクラスを使ってトピックの予測\n",
    "- (document) https://scikit-learn.org/stable/modules/generated/sklearn.decomposition.LatentDirichletAllocation.html\n",
    "- (オンライン学習)　https://www.ai-gakkai.or.jp/resource/my-bookmark/my-bookmark_vol30-no5/"
   ]
  },
  {
   "cell_type": "code",
   "execution_count": 12,
   "id": "a2d62335-8bb7-4391-a99d-f8bd1d8657de",
   "metadata": {},
   "outputs": [],
   "source": [
    "#インポート\n",
    "from sklearn.decomposition import LatentDirichletAllocation\n",
    "\n",
    "#mmする\n",
    "lda = LatentDirichletAllocation(n_components=10, #トピック数を指定\n",
    "                                random_state=123,\n",
    "                                learning_method='batch') #データセット全体を一度に使用してモデルを学習\n",
    "\n",
    "#学習とトピック分布へ変換\n",
    "X_topics = lda.fit_transform(X)"
   ]
  },
  {
   "cell_type": "code",
   "execution_count": 14,
   "id": "164e7614-a0a5-48f5-b42e-5428cd8bf82a",
   "metadata": {},
   "outputs": [
    {
     "name": "stdout",
     "output_type": "stream",
     "text": [
      "Topic 1:\n",
      "worst minutes awful script stupid\n",
      "Topic 2:\n",
      "family mother father children girl\n",
      "Topic 3:\n",
      "american war dvd music tv\n",
      "Topic 4:\n",
      "human audience cinema art sense\n",
      "Topic 5:\n",
      "police guy car dead murder\n",
      "Topic 6:\n",
      "horror house sex girl woman\n",
      "Topic 7:\n",
      "role performance comedy actor performances\n",
      "Topic 8:\n",
      "series episode war episodes tv\n",
      "Topic 9:\n",
      "book version original read novel\n",
      "Topic 10:\n",
      "action fight guy guys cool\n"
     ]
    }
   ],
   "source": [
    "#10種類のトピックごとに最も重要な5つの単語を出力する #単語の重要度は昇順でランク付されている\n",
    "n_top_words = 5\n",
    "feature_names = count.get_feature_names_out()\n",
    "\n",
    "#topicには各トピックごとの単語の重要度が5000個格納\n",
    "for topic_idx, topic in enumerate(lda.components_):\n",
    "    print(\"Topic %d:\" % (topic_idx + 1))\n",
    "    print(\" \".join([feature_names[i]\n",
    "                    for i in topic.argsort()\\\n",
    "                        [:-n_top_words - 1:-1]])) #重要度順に単語を返す"
   ]
  },
  {
   "cell_type": "markdown",
   "id": "e2c1738f-1313-4eeb-96f4-e30219a642e7",
   "metadata": {},
   "source": [
    "### (3) 上記の結果より各トピックの考察（書籍より引用）\n",
    "- Topic1: Generally bad movies\n",
    "- Topic2: Movies about families\n",
    "- Topic3: War movies\n",
    "- Topic4: Art movies\n",
    "- Topic5: Crime movies\n",
    "- Topic6: Horror movies\n",
    "- Topic7: Comedy movies\n",
    "- Topic8: Movies somehow related TV shows\n",
    "- Topic9: Movies based on books\n",
    "- Topic10: Action movies"
   ]
  },
  {
   "cell_type": "markdown",
   "id": "ce5f1bab-83be-4fc8-9671-5478b286b9e2",
   "metadata": {},
   "source": [
    "### 番外編①（入力データが日本語の場合）\n",
    "- 上記を実装する中で①日本語用のストップワードリストはあるのか②日本語は英語のように一単語がスペースで区切られていないためどのように処理するのかが気になったため取り組んだ"
   ]
  },
  {
   "cell_type": "code",
   "execution_count": 15,
   "id": "362dc146-2a0c-46f9-abe1-2e6ab1fca76b",
   "metadata": {},
   "outputs": [],
   "source": [
    "#インポート\n",
    "from janome.tokenizer import Tokenizer\n",
    "import urllib.request"
   ]
  },
  {
   "cell_type": "code",
   "execution_count": 16,
   "id": "d1f62a71-637c-441e-9b8a-444c38ba0fe3",
   "metadata": {},
   "outputs": [],
   "source": [
    "#サンプル文書の作成\n",
    "tokenizer = Tokenizer()\n",
    "documents = [\n",
    "    \"ブロッコリーとバナナを食べるのが好き。\",\n",
    "    \"朝食に野菜サラダを食べた。\",\n",
    "    \"子犬や子猫が可愛い。\",\n",
    "    \"昨日、姉が子猫の里親になった。\",\n",
    "    \"ブロッコリーを頬張るハムスターがかわいい。\"\n",
    "]\n",
    "\n",
    "# 形態素に分割し基本形に変換\n",
    "def tokenize(text):\n",
    "    return [token.base_form for token in tokenizer.tokenize(text)]\n",
    "\n",
    "# 文書をトークン化しリストに格納\n",
    "tokenized_documents = [\" \".join(tokenize(doc)) for doc in documents]"
   ]
  },
  {
   "cell_type": "code",
   "execution_count": 17,
   "id": "f6f46372-dd13-4fc8-8edc-7b898d57b9fa",
   "metadata": {},
   "outputs": [
    {
     "data": {
      "text/plain": [
       "['ブロッコリー と バナナ を 食べる の が 好き 。',\n",
       " '朝食 に 野菜 サラダ を 食べる た 。',\n",
       " '子犬 や 子猫 が 可愛い 。',\n",
       " '昨日 、 姉 が 子猫 の 里親 に なる た 。',\n",
       " 'ブロッコリー を 頬張る ハムスター が かわいい 。']"
      ]
     },
     "execution_count": 17,
     "metadata": {},
     "output_type": "execute_result"
    }
   ],
   "source": [
    "tokenized_documents"
   ]
  },
  {
   "cell_type": "code",
   "execution_count": 18,
   "id": "8704e03f-c9de-46e1-bb17-32e365ac745c",
   "metadata": {},
   "outputs": [
    {
     "name": "stdout",
     "output_type": "stream",
     "text": [
      "File already exists.\n"
     ]
    }
   ],
   "source": [
    "#日本語のストップワードリスト作成（SlothLibプロジェクト）\n",
    "def download_stopwords(path):\n",
    "    url = 'http://svn.sourceforge.jp/svnroot/slothlib/CSharp/Version1/SlothLib/NLP/Filter/StopWord/word/Japanese.txt'\n",
    "    if os.path.exists(path):\n",
    "        print('File already exists.')\n",
    "    else:\n",
    "        print('Downloading...')\n",
    "        # Download the file from `url` and save it locally under `file_name` below\n",
    "        urllib.request.urlretrieve(url, path)\n",
    "\n",
    "def create_stopwords(file_path):\n",
    "    stop_words = []\n",
    "    for w in open(path, \"r\"):\n",
    "        w = w.replace('\\n','')\n",
    "        if len(w) > 0:\n",
    "          stop_words.append(w)\n",
    "    return stop_words    \n",
    "\n",
    "path = \"stop_words.txt\"\n",
    "#定義した関数の実行\n",
    "download_stopwords(path)\n",
    "stop_words = create_stopwords(path)"
   ]
  },
  {
   "cell_type": "code",
   "execution_count": 20,
   "id": "f8f1be30-0add-4770-949e-de7be81fe259",
   "metadata": {},
   "outputs": [
    {
     "data": {
      "text/plain": [
       "['あそこ', 'あたり', 'あちら', 'あっち', 'あと', 'あな', 'あなた', 'あれ', 'いくつ', 'いつ']"
      ]
     },
     "execution_count": 20,
     "metadata": {},
     "output_type": "execute_result"
    }
   ],
   "source": [
    "# stop_wordsを確認してみる\n",
    "stop_words[:10]"
   ]
  },
  {
   "cell_type": "code",
   "execution_count": 23,
   "id": "2dc5ffe1-0ea5-4e1c-97a8-830472025e13",
   "metadata": {},
   "outputs": [],
   "source": [
    "#BoW行列の作成\n",
    "count_jap = CountVectorizer(stop_words=stop_words)\n",
    "X_jap = count_jap.fit_transform(tokenized_documents)\n",
    "\n",
    "#LDAの実装\n",
    "lda_jap = LatentDirichletAllocation(n_components=2, random_state=123, learning_method='batch')\n",
    "\n",
    "#学習\n",
    "Xjap_topics = lda_jap.fit_transform(X_jap)"
   ]
  },
  {
   "cell_type": "code",
   "execution_count": 24,
   "id": "c4c36edb-db05-4ce2-83e8-7aeb17796888",
   "metadata": {},
   "outputs": [
    {
     "name": "stdout",
     "output_type": "stream",
     "text": [
      "Topic 1:\n",
      "子猫 ブロッコリー なる 昨日 里親\n",
      "Topic 2:\n",
      "食べる 朝食 サラダ 野菜 バナナ\n"
     ]
    }
   ],
   "source": [
    "#各トピックを確認\n",
    "n_top_words = 5\n",
    "feature_names = count_jap.get_feature_names_out()\n",
    "\n",
    "for topic_idx, topic in enumerate(lda_jap.components_):\n",
    "    print(\"Topic %d:\" % (topic_idx + 1))\n",
    "    print(\" \".join([feature_names[i]\n",
    "                    for i in topic.argsort()\\\n",
    "                        [:-n_top_words - 1:-1]])) #トピック内の単語の重要度順に単語を返す"
   ]
  },
  {
   "cell_type": "markdown",
   "id": "13761411-4992-49c6-9212-a05cf4b2a2e8",
   "metadata": {},
   "source": [
    "### 番外編②（トピック数の探索）\n",
    "- 「どのようにトピック数を決定するのか」が気になり、調べていたところperplexityを使って評価する、という方法があったので試してみる\n",
    "- perplexityは値が小さいほど性能が良いとされている（各単語の出現確率をどれくらい正確に見積もられているかを測る指標）"
   ]
  },
  {
   "cell_type": "code",
   "execution_count": 25,
   "id": "80b29ec2-bc8d-4128-9a15-b6bbe6c2bbba",
   "metadata": {},
   "outputs": [],
   "source": [
    "# トピック数の候補\n",
    "topic_numbers = range(2, 20, 2)\n",
    "\n",
    "# 訓練データとテストデータに分割\n",
    "from sklearn.model_selection import train_test_split\n",
    "train, test = train_test_split(df['review'].values, test_size=0.2, random_state=123)\n",
    "\n",
    "#BOW行列の作成\n",
    "count_2 = CountVectorizer(stop_words='english', #sklearnライブラリに取り込まれている英語用ストップワードリストを用いる\n",
    "                        max_df=0.1, #出現頻度が10%以上の単語は除去される\n",
    "                        max_features=5000) #出現頻度の高い上位5000語のみを特徴量として使う\n",
    "\n",
    "X_train = count_2.fit_transform(train) #レビューデータを使ってBow行列を作成\n",
    "X_test = count_2.transform(test)\n",
    "\n",
    "# 各トピック数に対するperplexityの格納リスト\n",
    "perplexity_list = []\n",
    "models = []\n",
    "\n",
    "# トピック数を変えながらLDAを適用\n",
    "for n_topics in topic_numbers:\n",
    "    lda_2 = LatentDirichletAllocation(n_components=n_topics, random_state=123, learning_method='batch')\n",
    "    lda_2.fit(X_train)\n",
    "    perplexity_list.append(lda_2.perplexity(X_test))\n",
    "    models.append(lda_2)"
   ]
  },
  {
   "cell_type": "code",
   "execution_count": 26,
   "id": "292a36c6-565e-4946-9dc7-8e9efcf19858",
   "metadata": {},
   "outputs": [
    {
     "data": {
      "image/png": "[encoded data removed]",
      "text/plain": [
       "<Figure size 640x480 with 1 Axes>"
      ]
     },
     "metadata": {},
     "output_type": "display_data"
    }
   ],
   "source": [
    "# perplexityのプロット\n",
    "plt.figure()\n",
    "plt.plot(topic_numbers, perplexity_list, marker='o')\n",
    "plt.title('perplexity for Different Number of Topics')\n",
    "plt.xlabel('Number of Topics')\n",
    "plt.ylabel('perplexity_list')\n",
    "plt.show()"
   ]
  },
  {
   "cell_type": "code",
   "execution_count": 27,
   "id": "42452b87-3356-49d1-8d4c-5aab238f1d41",
   "metadata": {},
   "outputs": [
    {
     "name": "stdout",
     "output_type": "stream",
     "text": [
      "Topic 1:\n",
      "horror series original worst minutes action tv guy script ll\n",
      "Topic 2:\n",
      "role family performance woman war played wife beautiful father girl\n"
     ]
    }
   ],
   "source": [
    "#トピック数2で学習\n",
    "Xtest_topics = models[0].transform(X_test)\n",
    "\n",
    "#トピックごとに最も重要な5つの単語を出力\n",
    "n_top_words = 10\n",
    "feature_names_test = count_2.get_feature_names_out()\n",
    "\n",
    "for topic_idx, topic in enumerate(models[0].components_):\n",
    "    print(\"Topic %d:\" % (topic_idx + 1))\n",
    "    print(\" \".join([feature_names_test[i]\n",
    "                    for i in topic.argsort()\\\n",
    "                        [:-n_top_words - 1:-1]]))"
   ]
  },
  {
   "cell_type": "markdown",
   "id": "297cea55-a7a3-4e29-8601-cacc729a7d4e",
   "metadata": {},
   "source": [
    "### 考察・今後の改善点\n",
    "- 各トピックは10個の時より抽象的になり、上記の結果からは適切なトピック数は2個と明言することは難しいと考えた。\n",
    "- トピック数を探索する別の方法を探していたところ、抽出されたトピックの品質を評価する coference と perplexity を併せて評価している事例があった。coference は scikit-learn ではサポートされていないようだったため、今回は採用しなかったが、検討の余地あり。\n",
    "- 併せて単語数や出現頻度などのハイパーパラメーターを変えてもう少し探索が必要。"
   ]
  },
  {
   "cell_type": "code",
   "execution_count": null,
   "id": "d9cb96c9-4a60-44d8-aec6-99d15abbd54a",
   "metadata": {},
   "outputs": [],
   "source": []
  }
 ],
 "metadata": {
  "kernelspec": {
   "display_name": "Python 3 (ipykernel)",
   "language": "python",
   "name": "python3"
  },
  "language_info": {
   "codemirror_mode": {
    "name": "ipython",
    "version": 3
   },
   "file_extension": ".py",
   "mimetype": "text/x-python",
   "name": "python",
   "nbconvert_exporter": "python",
   "pygments_lexer": "ipython3",
   "version": "3.9.6"
  }
 },
 "nbformat": 4,
 "nbformat_minor": 5
}
